{
  "nbformat": 4,
  "nbformat_minor": 0,
  "metadata": {
    "colab": {
      "provenance": []
    },
    "kernelspec": {
      "name": "python3",
      "display_name": "Python 3"
    },
    "language_info": {
      "name": "python"
    }
  },
  "cells": [
    {
      "cell_type": "code",
      "execution_count": 1,
      "metadata": {
        "colab": {
          "base_uri": "https://localhost:8080/"
        },
        "id": "0GtM8f3b8tHp",
        "outputId": "0c808945-9ddc-46b2-81df-d593d0b9bc27"
      },
      "outputs": [
        {
          "output_type": "stream",
          "name": "stdout",
          "text": [
            "True\n",
            "True\n",
            "False\n"
          ]
        }
      ],
      "source": [
        "# 💡 **Question 1**\n",
        "\n",
        "# Given an integer `n`, return *`true` if it is a power of two. Otherwise, return `false`*.\n",
        "\n",
        "# An integer `n` is a power of two, if there exists an integer `x` such that `n == 2x`.\n",
        "\n",
        "# **Example 1:**\n",
        "# Input: n = 1 \n",
        "\n",
        "# Output: true\n",
        "\n",
        "# **Example 2:**\n",
        "# Input: n = 16 \n",
        "\n",
        "# Output: true\n",
        "\n",
        "# **Example 3:**\n",
        "# Input: n = 3 \n",
        "\n",
        "# Output: false\n",
        "\n",
        "\n",
        "def is_power_of_two(n):\n",
        "    if n <= 0:\n",
        "        return False\n",
        "    return (n & (n - 1)) == 0\n",
        "\n",
        "print(is_power_of_two(1))  # Output: True\n",
        "print(is_power_of_two(16))  # Output: True\n",
        "print(is_power_of_two(3))  # Output: False\n"
      ]
    },
    {
      "cell_type": "code",
      "source": [
        "\n",
        "# 💡 **Question 2**\n",
        "\n",
        "# Given a number n, find the sum of the first natural numbers.\n",
        "\n",
        "# **Example 1:**\n",
        "\n",
        "# Input: n = 3 \n",
        "\n",
        "# Output: 6\n",
        "\n",
        "# **Example 2:**\n",
        "\n",
        "# Input  : 5 \n",
        "\n",
        "# Output : 15\n",
        "\n",
        "\n",
        "def sum_of_natural_numbers(n):\n",
        "    return (n * (n + 1)) // 2\n",
        "\n",
        "\n",
        "print(sum_of_natural_numbers(3))  # Output: 6\n",
        "print(sum_of_natural_numbers(5))  # Output: 15\n"
      ],
      "metadata": {
        "colab": {
          "base_uri": "https://localhost:8080/"
        },
        "id": "lhSmgtpT9LG1",
        "outputId": "655a0b77-0469-4d83-e336-2af22e33ea5b"
      },
      "execution_count": 3,
      "outputs": [
        {
          "output_type": "stream",
          "name": "stdout",
          "text": [
            "6\n",
            "15\n"
          ]
        }
      ]
    },
    {
      "cell_type": "code",
      "source": [
        "\n",
        "# 💡 **Question 3**\n",
        "\n",
        "# ****Given a positive integer, N. Find the factorial of N. \n",
        "\n",
        "# **Example 1:**\n",
        "\n",
        "# Input: N = 5 \n",
        "\n",
        "# Output: 120\n",
        "\n",
        "# **Example 2:**\n",
        "\n",
        "# Input: N = 4\n",
        "\n",
        "# Output: 24\n",
        "\n",
        "\n",
        "\n",
        "def factorial(N):\n",
        "    result = 1\n",
        "    for i in range(1, N + 1):\n",
        "        result *= i\n",
        "    return result\n",
        "\n",
        "print(factorial(5))  # Output: 120\n",
        "print(factorial(4))  # Output: 24\n"
      ],
      "metadata": {
        "colab": {
          "base_uri": "https://localhost:8080/"
        },
        "id": "R6FCk7kV9wHq",
        "outputId": "3b8816bc-e56b-4c00-f3fb-be977f70dc6f"
      },
      "execution_count": 4,
      "outputs": [
        {
          "output_type": "stream",
          "name": "stdout",
          "text": [
            "120\n",
            "24\n"
          ]
        }
      ]
    },
    {
      "cell_type": "code",
      "source": [
        "\n",
        "# 💡 **Question 4**\n",
        "\n",
        "# Given a number N and a power P, the task is to find the exponent of this number raised to the given power, i.e. N^P.\n",
        "\n",
        "# **Example 1 :** \n",
        "\n",
        "# Input: N = 5, P = 2\n",
        "\n",
        "# Output: 25\n",
        "\n",
        "# **Example 2 :**\n",
        "# Input: N = 2, P = 5\n",
        "\n",
        "# Output: 32\n",
        "\n",
        "\n",
        "def exponent(N, P):\n",
        "    result = N ** P\n",
        "    return result\n",
        "\n",
        "print(exponent(5, 2))  # Output: 25\n",
        "print(exponent(2, 5))  # Output: 32\n"
      ],
      "metadata": {
        "colab": {
          "base_uri": "https://localhost:8080/"
        },
        "id": "KqiVR_H5-zh8",
        "outputId": "f2c6a4d3-e828-4770-c241-d4b0638f98f4"
      },
      "execution_count": 5,
      "outputs": [
        {
          "output_type": "stream",
          "name": "stdout",
          "text": [
            "25\n",
            "32\n"
          ]
        }
      ]
    },
    {
      "cell_type": "code",
      "source": [
        "\n",
        "# 💡 **Question 5**\n",
        "\n",
        "# Given an array of integers **arr**, the task is to find maximum element of that array using recursion.\n",
        "\n",
        "# **Example 1:**\n",
        "\n",
        "# Input: arr = {1, 4, 3, -5, -4, 8, 6};\n",
        "# Output: 8\n",
        "\n",
        "# **Example 2:**\n",
        "\n",
        "# Input: arr = {1, 4, 45, 6, 10, -8};\n",
        "# Output: 45\n",
        "\n",
        "\n",
        "def find_max(arr, left, right):\n",
        "    if left == right:\n",
        "        return arr[left]\n",
        "    \n",
        "    mid = (left + right) // 2\n",
        "    max_left = find_max(arr, left, mid)\n",
        "    max_right = find_max(arr, mid + 1, right)\n",
        "    \n",
        "    return max(max_left, max_right)\n",
        "\n",
        "def maximum_element(arr):\n",
        "    if not arr:\n",
        "        return None\n",
        "    \n",
        "    return find_max(arr, 0, len(arr) - 1)\n",
        "\n",
        "\n",
        "arr1 = [1, 4, 3, -5, -4, 8, 6]\n",
        "print(maximum_element(arr1))  # Output: 8\n",
        "\n",
        "arr2 = [1, 4, 45, 6, 10, -8]\n",
        "print(maximum_element(arr2))  # Output: 45\n"
      ],
      "metadata": {
        "colab": {
          "base_uri": "https://localhost:8080/"
        },
        "id": "qISFDLhr_9Xa",
        "outputId": "99a52c6f-71ad-4938-f439-7dc45c99f420"
      },
      "execution_count": 6,
      "outputs": [
        {
          "output_type": "stream",
          "name": "stdout",
          "text": [
            "8\n",
            "45\n"
          ]
        }
      ]
    },
    {
      "cell_type": "code",
      "source": [
        "\n",
        "# 💡 **Question 6**\n",
        "\n",
        "# Given first term (a), common difference (d) and a integer N of the Arithmetic Progression series, the task is to find Nth term of the series.\n",
        "\n",
        "# **Example 1:**\n",
        "\n",
        "# Input : a = 2 d = 1 N = 5\n",
        "# Output : 6\n",
        "# The 5th term of the series is : 6\n",
        "\n",
        "# **Example 2:**\n",
        "\n",
        "# Input : a = 5 d = 2 N = 10\n",
        "# Output : 23\n",
        "# The 10th term of the series is : 23\n",
        "\n",
        "\n",
        "\n",
        "\n",
        "def nth_term_of_ap(a, d, N):\n",
        "    nth_term = a + (N - 1) * d\n",
        "    return nth_term\n",
        "\n",
        "print(nth_term_of_ap(2, 1, 5))  # Output: 6\n",
        "print(nth_term_of_ap(5, 2, 10))  # Output: 23\n"
      ],
      "metadata": {
        "colab": {
          "base_uri": "https://localhost:8080/"
        },
        "id": "i5iaWyNIAc-l",
        "outputId": "003c7da2-be2a-411c-d7f1-640cf0f6d00b"
      },
      "execution_count": 7,
      "outputs": [
        {
          "output_type": "stream",
          "name": "stdout",
          "text": [
            "6\n",
            "23\n"
          ]
        }
      ]
    },
    {
      "cell_type": "code",
      "source": [
        "# 💡 **Question 7**\n",
        "\n",
        "# Given a string S, the task is to write a program to print all permutations of a given string.\n",
        "\n",
        "# **Example 1:**\n",
        "\n",
        "# ***Input:***\n",
        "\n",
        "# *S = “ABC”*\n",
        "\n",
        "# ***Output:***\n",
        "\n",
        "# *“ABC”, “ACB”, “BAC”, “BCA”, “CBA”, “CAB”*\n",
        "\n",
        "# **Example 2:**\n",
        "\n",
        "# ***Input:***\n",
        "\n",
        "# *S = “XY”*\n",
        "\n",
        "# ***Output:***\n",
        "\n",
        "# *“XY”, “YX”*\n",
        "\n",
        "\n",
        "\n",
        "def permutations(string):\n",
        "    # Base case: if string length is 1, return the string itself as a single permutation\n",
        "    if len(string) == 1:\n",
        "        return [string]\n",
        "    \n",
        "    # List to store all permutations\n",
        "    perms = []\n",
        "    \n",
        "    for i in range(len(string)):\n",
        "        # Remove the current character from the string\n",
        "        current_char = string[i]\n",
        "        remaining_chars = string[:i] + string[i+1:]\n",
        "        \n",
        "        # Recursively generate permutations of the remaining characters\n",
        "        remaining_perms = permutations(remaining_chars)\n",
        "        \n",
        "        # Prepend the current character to each permutation obtained above\n",
        "        for perm in remaining_perms:\n",
        "            perms.append(current_char + perm)\n",
        "    \n",
        "    return perms\n",
        "\n",
        "\n",
        "string1 = \"ABC\"\n",
        "print(permutations(string1))  # Output: ['ABC', 'ACB', 'BAC', 'BCA', 'CAB', 'CBA']\n",
        "\n",
        "string2 = \"XY\"\n",
        "print(permutations(string2))  # Output: ['XY', 'YX']\n",
        "\n"
      ],
      "metadata": {
        "colab": {
          "base_uri": "https://localhost:8080/"
        },
        "id": "VqBSfm7EB1wX",
        "outputId": "5d36bfa5-619f-4526-d2db-e52fe7074409"
      },
      "execution_count": 8,
      "outputs": [
        {
          "output_type": "stream",
          "name": "stdout",
          "text": [
            "['ABC', 'ACB', 'BAC', 'BCA', 'CAB', 'CBA']\n",
            "['XY', 'YX']\n"
          ]
        }
      ]
    },
    {
      "cell_type": "code",
      "source": [
        "\n",
        "# 💡 **Question 8**\n",
        "\n",
        "# Given an array, find a product of all array elements.\n",
        "\n",
        "# **Example 1:**\n",
        "\n",
        "# Input  : arr[] = {1, 2, 3, 4, 5}\n",
        "# Output : 120\n",
        "# **Example 2:**\n",
        "\n",
        "# Input  : arr[] = {1, 6, 3}\n",
        "# Output : 18\n",
        "\n",
        "\n",
        "def product_of_array(arr):\n",
        "    product = 1\n",
        "    for num in arr:\n",
        "        product *= num\n",
        "    return product\n",
        "\n",
        "arr1 = [1, 2, 3, 4, 5]\n",
        "print(product_of_array(arr1))  # Output: 120\n",
        "\n",
        "arr2 = [1, 6, 3]\n",
        "print(product_of_array(arr2))  # Output: 18\n"
      ],
      "metadata": {
        "colab": {
          "base_uri": "https://localhost:8080/"
        },
        "id": "JPIUH0JlCkFD",
        "outputId": "fcf416a4-2781-4e3b-e44a-15b3fd8174a6"
      },
      "execution_count": 9,
      "outputs": [
        {
          "output_type": "stream",
          "name": "stdout",
          "text": [
            "120\n",
            "18\n"
          ]
        }
      ]
    }
  ]
}